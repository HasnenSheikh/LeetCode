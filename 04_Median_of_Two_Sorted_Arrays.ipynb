{
 "cells": [
  {
   "cell_type": "markdown",
   "id": "c91eb95e-baef-4af6-9675-8049f7b21328",
   "metadata": {},
   "source": [
    "# <center>Median of Two Sorted Arrays<center>"
   ]
  },
  {
   "cell_type": "markdown",
   "id": "039eb5ad-b7cc-428c-bb93-07d6657905f2",
   "metadata": {},
   "source": [
    "## Notebook Configuration"
   ]
  },
  {
   "cell_type": "markdown",
   "id": "c7fba8b6-e859-4ee8-b61d-13f71672d756",
   "metadata": {},
   "source": [
    "#### Creating a Virtual Environment"
   ]
  },
  {
   "cell_type": "code",
   "execution_count": 1,
   "id": "ecb104a1-b084-48f8-9348-7f5c32895105",
   "metadata": {},
   "outputs": [],
   "source": [
    "!python -m venv env \n",
    "!env\\Scripts\\activate"
   ]
  },
  {
   "cell_type": "markdown",
   "id": "8a9bc73f-07bd-41c8-af52-0e8def5dfb5d",
   "metadata": {},
   "source": [
    "#### Configuration Notebooks for Version Control"
   ]
  },
  {
   "cell_type": "code",
   "execution_count": 2,
   "id": "16148768-1cd5-4cf2-9db0-97238d2487b1",
   "metadata": {},
   "outputs": [],
   "source": [
    "import nbformat as nb \n",
    "\n",
    "notebook = nb.read(\"04_Median_of_Two_Sorted_Arrays.ipynb\", as_version=4)\n",
    "notebook['metadata']['git'] = {'suppress_outputs': True}\n",
    "nb.write(notebook, \"04_Median_of_Two_Sorted_Arrays.ipynb\")"
   ]
  },
  {
   "cell_type": "markdown",
   "id": "40912b7b-200b-4a8d-a6a7-cc7238337050",
   "metadata": {},
   "source": [
    "## Problem Statement"
   ]
  },
  {
   "cell_type": "markdown",
   "id": "b301265d-dec6-4123-863f-391117640496",
   "metadata": {},
   "source": [
    "Given two sorted arrays **nums1** and **nums2** of size **m** and **n** respectively, return the **median** of the two sorted arrays.<br><br>\n",
    "\n",
    "The overall run time complexity should be **O(log(m+n))**.\n",
    "\n",
    "---"
   ]
  },
  {
   "cell_type": "markdown",
   "id": "51ecec09-6e93-4f23-b691-e7f52fe3d0c5",
   "metadata": {},
   "source": [
    "### Examples"
   ]
  },
  {
   "cell_type": "markdown",
   "id": "6a5200b3-e3ab-49dc-849f-f73f2da28f1a",
   "metadata": {},
   "source": [
    "#### Example 1:"
   ]
  },
  {
   "cell_type": "markdown",
   "id": "f7f465b5-d5f5-4020-8a27-c85bfb105dc5",
   "metadata": {},
   "source": [
    "**Input:** nums1 = [1,3], nums2 = [2]<br>\n",
    "**Output:** 2.00000<br>\n",
    "**Explanation:** merged array = [1,2,3] and median is 2.<br>\n",
    "\n",
    "---"
   ]
  },
  {
   "cell_type": "markdown",
   "id": "159d8519-0b7b-484b-b0cc-469a0f3376fa",
   "metadata": {},
   "source": [
    "#### Example 2:"
   ]
  },
  {
   "cell_type": "markdown",
   "id": "6da4686a-8007-48db-96c4-5c81ad5d05e7",
   "metadata": {},
   "source": [
    "**Input:** nums1 = [1,2], nums2 = [3,4]<br>\n",
    "**Output:** 2.50000<br>\n",
    "**Explanation:** merged array = [1,2,3,4] and median is (2 + 3) / 2 = 2.5 <br> \n",
    "\n",
    "---"
   ]
  },
  {
   "cell_type": "markdown",
   "id": "42f871a8-f335-40f3-a02f-009db4ded4e0",
   "metadata": {},
   "source": [
    "### Constraints:"
   ]
  },
  {
   "cell_type": "markdown",
   "id": "78c74b14-f9c8-45b8-87aa-f5161c79dfb0",
   "metadata": {},
   "source": [
    "* **nums1.length** = m <br>\n",
    "* **nums2.length** = n <br> \n",
    "* 0 <= m <= 1000 <br>\n",
    "* 0 <= n <= 1000 <br>\n",
    "* 1 <= m + n <= 2000 <br>\n",
    "* -10^6 <= nums1[i], nums2[i] <= 10^6 <br>\n",
    "\n",
    "---"
   ]
  },
  {
   "cell_type": "markdown",
   "id": "8b792e4d-0fb3-4b08-a8e3-80c67c018de5",
   "metadata": {},
   "source": [
    "## Solution "
   ]
  },
  {
   "cell_type": "code",
   "execution_count": 6,
   "id": "cc9ed1bd-f1c0-4036-bbee-22ce9861c46d",
   "metadata": {},
   "outputs": [],
   "source": [
    "from typing import List"
   ]
  },
  {
   "cell_type": "code",
   "execution_count": 8,
   "id": "128ea6fa-6f3c-4e12-a425-a04f1d8d8223",
   "metadata": {},
   "outputs": [],
   "source": [
    "class Solution:\n",
    "    def findMedianSortedArrays(self, nums1: List[int], nums2: List[int]) -> float:\n",
    "\n",
    "        \"\"\"Finds the median of two sorted arrays.\n",
    "\n",
    "        This method implements a binary search approach to partition the arrays \n",
    "        and find the median in O(log(min(m, n))) time, where m and n are the \n",
    "        lengths of the two arrays. The function ensures that the smaller array \n",
    "        is used for binary search to minimize complexity.\n",
    "\n",
    "        Args:\n",
    "            nums1 (List[int]): The first sorted array.\n",
    "            nums2 (List[int]): The second sorted array.\n",
    "\n",
    "        Returns:\n",
    "            float: The median of the two sorted arrays.\n",
    "\n",
    "        Example:\n",
    "            >>> solution = Solution()\n",
    "            >>> solution.findMedianSortedArrays([1, 3], [2])\n",
    "            2.0\n",
    "            >>> solution.findMedianSortedArrays([1, 2], [3, 4])\n",
    "            2.5\n",
    "\n",
    "        Time Complexity:\n",
    "            O(log(min(m, n))) — where m and n are the lengths of nums1 and nums2.\n",
    "\n",
    "        Space Complexity:\n",
    "            O(1) — only a few variables are used for binary search partitions.\n",
    "        \"\"\" \n",
    "        \n",
    "        if len(nums1) > len(nums2): \n",
    "            nums1, nums2 = nums2, nums1\n",
    "\n",
    "        total_len = len(nums1) + len(nums2)\n",
    "        half_len = total_len // 2\n",
    "\n",
    "        left = 0\n",
    "        right = len(nums1)\n",
    "\n",
    "        while left <= right:\n",
    "            partition1 = (left + right) // 2\n",
    "            partition2 = half_len - partition1\n",
    "\n",
    "            max_left1 = float('-inf') if partition1 == 0 else nums1[partition1 - 1]\n",
    "            min_right1 = float('inf') if partition1 == len(nums1) else nums1[partition1]\n",
    "\n",
    "            max_left2 = float('-inf') if partition2 == 0 else nums2[partition2 - 1]\n",
    "            min_right2 = float('inf') if partition2 == len(nums2) else nums2[partition2]\n",
    "\n",
    "            if max_left1 <= min_right2 and max_left2 <= min_right1: \n",
    "                if total_len % 2 == 0:\n",
    "                    median = (max(max_left1, max_left2) + min(min_right1, min_right2)) / 2\n",
    "                else:\n",
    "                    median = min(min_right1, min_right2)\n",
    "\n",
    "                return median\n",
    "\n",
    "            elif max_left1 > min_right2: \n",
    "                right = partition1 - 1\n",
    "            else:\n",
    "                left = partition1 + 1"
   ]
  },
  {
   "cell_type": "markdown",
   "id": "1b83dc1a-c042-4684-958c-d9d9e4870c34",
   "metadata": {},
   "source": [
    "## Git Integration"
   ]
  },
  {
   "cell_type": "code",
   "execution_count": 10,
   "id": "e063ab90-df1f-435c-a40a-65edf553906d",
   "metadata": {},
   "outputs": [
    {
     "name": "stdout",
     "output_type": "stream",
     "text": [
      "Reinitialized existing Git repository in C:/File Manager/Code_Sorcerer/LeetCode/.git/\n"
     ]
    }
   ],
   "source": [
    "!git init"
   ]
  },
  {
   "cell_type": "code",
   "execution_count": 11,
   "id": "c0382368-a318-43e8-a258-4d2ddcaed2d0",
   "metadata": {},
   "outputs": [
    {
     "name": "stdout",
     "output_type": "stream",
     "text": [
      "On branch main\n",
      "Your branch is up to date with 'origin/main'.\n",
      "\n",
      "Changes not staged for commit:\n",
      "  (use \"git add <file>...\" to update what will be committed)\n",
      "  (use \"git restore <file>...\" to discard changes in working directory)\n",
      "\tmodified:   01_Two_Sum.ipynb\n",
      "\tmodified:   02_Add_Two_Numbers.ipynb\n",
      "\tmodified:   03_Longest_Substring_Without_Repeating_Characters.ipynb\n",
      "\n",
      "Untracked files:\n",
      "  (use \"git add <file>...\" to include in what will be committed)\n",
      "\t.ipynb_checkpoints/\n",
      "\t04_Median_of_Two_Sorted_Arrays.ipynb\n",
      "\tUseful_resources/\n",
      "\tenv/\n",
      "\n",
      "no changes added to commit (use \"git add\" and/or \"git commit -a\")\n"
     ]
    }
   ],
   "source": [
    "!git status"
   ]
  },
  {
   "cell_type": "code",
   "execution_count": 13,
   "id": "82bbb640-c874-4ecb-b4b6-36fdfbb6c2cb",
   "metadata": {},
   "outputs": [
    {
     "name": "stderr",
     "output_type": "stream",
     "text": [
      "warning: in the working copy of '04_Median_of_Two_Sorted_Arrays.ipynb', LF will be replaced by CRLF the next time Git touches it\n"
     ]
    },
    {
     "name": "stdout",
     "output_type": "stream",
     "text": [
      "[main 031d641] Upload Fourth LeetCode solution - Median of Two Sorted Arrays\n",
      " 1 file changed, 321 insertions(+)\n",
      " create mode 100644 04_Median_of_Two_Sorted_Arrays.ipynb\n"
     ]
    }
   ],
   "source": [
    "!git add 04_Median_of_Two_Sorted_Arrays.ipynb\n",
    "!git commit -m \"Upload Fourth LeetCode solution - Median of Two Sorted Arrays\""
   ]
  },
  {
   "cell_type": "code",
   "execution_count": 15,
   "id": "76ee731b-8b55-4ab0-957a-d4657bb40544",
   "metadata": {},
   "outputs": [
    {
     "name": "stderr",
     "output_type": "stream",
     "text": [
      "error: remote origin already exists.\n",
      "Everything up-to-date\n"
     ]
    }
   ],
   "source": [
    "!git remote add origin https://github.com/HasnenSheikh/LeetCode.git \n",
    "!git branch -M main\n",
    "!git push origin main"
   ]
  },
  {
   "cell_type": "code",
   "execution_count": null,
   "id": "3c306a29-433f-4ead-a27b-315eadd2e42d",
   "metadata": {},
   "outputs": [],
   "source": []
  }
 ],
 "metadata": {
  "kernelspec": {
   "display_name": "Python 3 (ipykernel)",
   "language": "python",
   "name": "python3"
  },
  "language_info": {
   "codemirror_mode": {
    "name": "ipython",
    "version": 3
   },
   "file_extension": ".py",
   "mimetype": "text/x-python",
   "name": "python",
   "nbconvert_exporter": "python",
   "pygments_lexer": "ipython3",
   "version": "3.11.4"
  }
 },
 "nbformat": 4,
 "nbformat_minor": 5
}
