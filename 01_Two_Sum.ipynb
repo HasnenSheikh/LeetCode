{
 "cells": [
  {
   "cell_type": "markdown",
   "id": "458cf99e-06d9-4853-b9eb-29d585ddd591",
   "metadata": {},
   "source": [
    "# <center>Two Sum<center> "
   ]
  },
  {
   "cell_type": "markdown",
   "id": "53240b5c-870f-4291-85e6-6a053be0e80f",
   "metadata": {},
   "source": [
    "## Notebook Configuration"
   ]
  },
  {
   "cell_type": "markdown",
   "id": "c1f8ebcc-dcbc-4d69-aff5-f12628f024c6",
   "metadata": {},
   "source": [
    "#### Creating a Virtual Environment "
   ]
  },
  {
   "cell_type": "code",
   "execution_count": 3,
   "id": "44082517-7b74-45c5-935e-096259df9509",
   "metadata": {},
   "outputs": [],
   "source": [
    "!python -m venv env \n",
    "!env\\Scripts\\activate"
   ]
  },
  {
   "cell_type": "markdown",
   "id": "79af524e-9851-4044-a1e4-c907924ac580",
   "metadata": {},
   "source": [
    "#### Configuring Notebooks for Version Control "
   ]
  },
  {
   "cell_type": "code",
   "execution_count": 4,
   "id": "c855e3b6-14ef-4833-a059-176a9ca82f97",
   "metadata": {},
   "outputs": [],
   "source": [
    "import nbformat\n",
    "\n",
    "notebook = nbformat.read(\"01_Two_Sum.ipynb\", as_version=4)\n",
    "notebook['metadata']['git'] = {'suppress_outputs': True}\n",
    "nbformat.write(notebook, \"01_Two_Sum.ipynb\")"
   ]
  },
  {
   "cell_type": "markdown",
   "id": "0d42909b-dde7-4d36-80bd-52a3c7e69574",
   "metadata": {},
   "source": [
    "##### Problem Statement"
   ]
  },
  {
   "cell_type": "markdown",
   "id": "2da047c8-3c03-41ff-806f-ba46e19300c2",
   "metadata": {},
   "source": [
    "Given an array of integers nums and an integer target, return indices of the two numbers such that they add up to target.\n",
    "You may assume that each input would have exactly one solution, and you may not use the same element twice.\n",
    "You can return the answer in any order"
   ]
  },
  {
   "cell_type": "markdown",
   "id": "bb35d95c-7774-4322-99a9-c4f3e2e253b4",
   "metadata": {},
   "source": [
    "##### Examples "
   ]
  },
  {
   "cell_type": "markdown",
   "id": "be337650-c84b-4568-986a-ab1b15f45dbc",
   "metadata": {},
   "source": [
    "Example 1: <br>\n",
    "\n",
    "Input: nums = [2,7,11,15], target = 9 <br>\n",
    "Output: [0,1] <br>\n",
    "Explanation: Because nums[0] + nums[1] == 9, we return [0, 1]. <br><br>\n",
    "\n",
    "\n",
    "Example 2: <br>\n",
    "\n",
    "Input: nums = [3,2,4], target = 6 <br>\n",
    "Output: [1,2] <br><br>\n",
    "\n",
    "Example 3: <br>\n",
    "\n",
    "Input: nums = [3,3], target = 6 <br>\n",
    "Output: [0,1] <br>"
   ]
  },
  {
   "cell_type": "markdown",
   "id": "90baabbb-68a2-4dc2-b975-f4085f7e45d8",
   "metadata": {},
   "source": [
    "##### Constraints"
   ]
  },
  {
   "cell_type": "markdown",
   "id": "71cdd56f-c938-45cb-86e6-d79689a3084e",
   "metadata": {},
   "source": [
    "2 <= nums.length <= 104 <br>\n",
    "-109 <= nums[i] <= 109 <br>\n",
    "-109 <= target <= 109 <br>\n",
    "Only one valid answer exists <br>"
   ]
  },
  {
   "cell_type": "markdown",
   "id": "e063499f-6e90-416e-b356-b894d1b2ffc2",
   "metadata": {},
   "source": [
    "Follow-up: Can you come up with an algorithm that is less than O(n2) time complexity?"
   ]
  },
  {
   "cell_type": "markdown",
   "id": "9ba14c90-10e3-4b35-b675-49ce18adcd97",
   "metadata": {},
   "source": [
    "#### Solution"
   ]
  },
  {
   "cell_type": "code",
   "execution_count": 10,
   "id": "ca665399-f64c-4e07-89f2-e00332bf81e2",
   "metadata": {},
   "outputs": [],
   "source": [
    "from typing import List"
   ]
  },
  {
   "cell_type": "code",
   "execution_count": 15,
   "id": "27a11404-a978-40b6-a512-9bc060183914",
   "metadata": {},
   "outputs": [],
   "source": [
    "class Solution:\n",
    "    def twoSum(self, nums: List[int], target: int) -> List[int]:\n",
    "        \n",
    "        \"\"\"Finds two indices of numbers in a list that add up to a target value.\n",
    "\n",
    "        This method uses a hash map (dictionary) to store numbers and their indices \n",
    "        while iterating through the list. For each number, it checks if the complement \n",
    "        (target - current number) is already in the dictionary. If found, it returns \n",
    "        the pair of indices.\n",
    "\n",
    "        Args:\n",
    "            nums (List[int]): A list of integers.\n",
    "            target (int): The target sum for which two numbers are to be found.\n",
    "\n",
    "        Returns:\n",
    "            List[int]: A list containing two indices of the numbers in `nums` that add \n",
    "                up to the target. Returns an empty list if no solution exists.\n",
    "\n",
    "        Example:\n",
    "            >>> solution = Solution()\n",
    "            >>> solution.twoSum([2, 7, 11, 15], 9)\n",
    "            [0, 1]\n",
    "        \"\"\"\n",
    "        \n",
    "        num_dict = {}\n",
    "\n",
    "        for i, num in enumerate(nums):\n",
    "            temp = target - num\n",
    "\n",
    "            if temp in num_dict: \n",
    "                return [num_dict[temp], i]\n",
    "\n",
    "            num_dict[num] = i \n",
    "\n",
    "        return []"
   ]
  },
  {
   "cell_type": "code",
   "execution_count": 16,
   "id": "ad7e0e61-ccd7-4d56-8cc9-b247b378778a",
   "metadata": {},
   "outputs": [
    {
     "data": {
      "text/plain": [
       "[0, 1]"
      ]
     },
     "execution_count": 16,
     "metadata": {},
     "output_type": "execute_result"
    }
   ],
   "source": [
    "solution = Solution()\n",
    "list = [2, 7, 11, 15]\n",
    "target = 9\n",
    "solution.twoSum(list, target)"
   ]
  },
  {
   "cell_type": "markdown",
   "id": "9b1682ae-2f41-4b00-9447-91f369ce51dc",
   "metadata": {},
   "source": [
    "#### Git Integration "
   ]
  },
  {
   "cell_type": "code",
   "execution_count": 12,
   "id": "3fb098d8-8419-45f2-a9f0-621ff5cce4a1",
   "metadata": {},
   "outputs": [
    {
     "name": "stdout",
     "output_type": "stream",
     "text": [
      "Initialized empty Git repository in C:/File Manager/Code_Sorcerer/LeetCode/.git/\n"
     ]
    }
   ],
   "source": [
    "!git init"
   ]
  },
  {
   "cell_type": "code",
   "execution_count": 17,
   "id": "0b2ac332-c675-4963-a2d9-5b6715c84495",
   "metadata": {},
   "outputs": [
    {
     "name": "stdout",
     "output_type": "stream",
     "text": [
      "On branch master\n",
      "\n",
      "No commits yet\n",
      "\n",
      "Untracked files:\n",
      "  (use \"git add <file>...\" to include in what will be committed)\n",
      "\t.ipynb_checkpoints/\n",
      "\t01_Two_Sum.ipynb\n",
      "\tREADME.md\n",
      "\tenv/\n",
      "\n",
      "nothing added to commit but untracked files present (use \"git add\" to track)\n"
     ]
    }
   ],
   "source": [
    "!git status"
   ]
  },
  {
   "cell_type": "code",
   "execution_count": 18,
   "id": "2c2c0124-b19d-43c6-9548-813eec1a1160",
   "metadata": {},
   "outputs": [],
   "source": [
    "!echo \".ipynb_checkpoints/\\n*.pyc\\n__pycache__/\" > .gitignore"
   ]
  },
  {
   "cell_type": "code",
   "execution_count": 19,
   "id": "3d1d982b-de28-413f-ac99-c2fb938fe9cf",
   "metadata": {},
   "outputs": [
    {
     "name": "stderr",
     "output_type": "stream",
     "text": [
      "warning: in the working copy of '01_Two_Sum.ipynb', LF will be replaced by CRLF the next time Git touches it\n"
     ]
    },
    {
     "name": "stdout",
     "output_type": "stream",
     "text": [
      "[master (root-commit) 5edae87] Upload first LeetCode solution - Two Sum\n",
      " 2 files changed, 322 insertions(+)\n",
      " create mode 100644 .gitignore\n",
      " create mode 100644 01_Two_Sum.ipynb\n"
     ]
    }
   ],
   "source": [
    "!git add .gitignore\n",
    "!git add 01_Two_Sum.ipynb\n",
    "!git commit -m \"Upload first LeetCode solution - Two Sum\""
   ]
  },
  {
   "cell_type": "code",
   "execution_count": 25,
   "id": "1c8b1b58-936b-4af0-842a-3d3869f226a9",
   "metadata": {},
   "outputs": [
    {
     "name": "stderr",
     "output_type": "stream",
     "text": [
      "error: remote origin already exists.\n",
      "From https://github.com/HasnenSheikh/LeetCode\n",
      " * branch            main       -> FETCH_HEAD\n",
      "warning: in the working copy of '01_Two_Sum.ipynb', LF will be replaced by CRLF the next time Git touches it\n",
      "error: The following untracked working tree files would be overwritten by merge:\n",
      "\tREADME.md\n",
      "Please move or remove them before you merge.\n",
      "Aborting\n",
      "Merge with strategy ort failed.\n"
     ]
    }
   ],
   "source": [
    "!git remote add origin https://github.com/HasnenSheikh/LeetCode.git\n",
    "!git branch -M main\n",
    "!git pull origin main --allow-unrelated-histories"
   ]
  },
  {
   "cell_type": "code",
   "execution_count": null,
   "id": "beeb9ec4-2bda-4f69-b97b-3ed17051ab3a",
   "metadata": {},
   "outputs": [],
   "source": []
  }
 ],
 "metadata": {
  "kernelspec": {
   "display_name": "Python 3 (ipykernel)",
   "language": "python",
   "name": "python3"
  },
  "language_info": {
   "codemirror_mode": {
    "name": "ipython",
    "version": 3
   },
   "file_extension": ".py",
   "mimetype": "text/x-python",
   "name": "python",
   "nbconvert_exporter": "python",
   "pygments_lexer": "ipython3",
   "version": "3.11.4"
  }
 },
 "nbformat": 4,
 "nbformat_minor": 5
}
