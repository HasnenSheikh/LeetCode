{
 "cells": [
  {
   "cell_type": "markdown",
   "id": "d3309a9a-b29a-4ee7-ac01-3729ce56f24e",
   "metadata": {},
   "source": [
    "# <center>Longest Substring Without Characters<center>"
   ]
  },
  {
   "cell_type": "markdown",
   "id": "7bf14859-359a-4831-aab9-96048833104d",
   "metadata": {},
   "source": [
    "## Notebook Configuration"
   ]
  },
  {
   "cell_type": "markdown",
   "id": "ee02843a-7f8e-4de6-b33f-fbb272b891eb",
   "metadata": {},
   "source": [
    "#### Creating a Virtual Environment"
   ]
  },
  {
   "cell_type": "code",
   "execution_count": 2,
   "id": "adff6089-bb7b-4766-a678-ad4ba0ca8eb7",
   "metadata": {},
   "outputs": [],
   "source": [
    "!python -m venv env \n",
    "!env\\Scripts\\activate "
   ]
  },
  {
   "cell_type": "markdown",
   "id": "6a33cf72-b9a7-497f-b692-a81287def3da",
   "metadata": {},
   "source": [
    "#### Configuration Notebooks for Version Control"
   ]
  },
  {
   "cell_type": "code",
   "execution_count": 4,
   "id": "7170f6eb-7d4c-4512-8943-8a72b6c73db5",
   "metadata": {},
   "outputs": [],
   "source": [
    "import nbformat as nb \n",
    "\n",
    "notebook = nb.read(\"03_Longest_Substring_Without_Repeating_Characters.ipynb\", as_version=4)\n",
    "notebook['metadata']['git'] = {'suppress_outputs':True}\n",
    "nb.write(notebook, \"03_Longest_Substring_Without_Repeating_Characters.ipynb\")"
   ]
  },
  {
   "cell_type": "markdown",
   "id": "8b7aa7cc-c0bb-459c-b3f3-fb561b1982b0",
   "metadata": {},
   "source": [
    "## Problem Statement"
   ]
  },
  {
   "cell_type": "markdown",
   "id": "0868fe4a-88ff-464f-9d59-7fde24a69745",
   "metadata": {},
   "source": [
    "Given a string `s`, find the length of the **longest substring** without duplicate characters.\n",
    "\n",
    "---"
   ]
  },
  {
   "cell_type": "markdown",
   "id": "55517b58-88ee-42b1-a44a-5488b84b6845",
   "metadata": {},
   "source": [
    "### Examples"
   ]
  },
  {
   "cell_type": "markdown",
   "id": "7d918309-3b69-4d0a-b06f-6d75b6054521",
   "metadata": {},
   "source": [
    "#### Example 1:\n"
   ]
  },
  {
   "cell_type": "markdown",
   "id": "6521d0a4-1270-4888-baf1-8bc177847530",
   "metadata": {},
   "source": [
    "\n",
    "**Input:** `s = \"abcabcbb\"`<br>\n",
    "**Output:** `3`<br>\n",
    "**Explanation:** The answer is \"abc\", with the length of 3.<br>\n",
    "\n",
    "---"
   ]
  },
  {
   "cell_type": "markdown",
   "id": "c1a2761b-a6db-4ee7-bf73-e0092b480d9b",
   "metadata": {},
   "source": [
    "#### Example 2:"
   ]
  },
  {
   "cell_type": "markdown",
   "id": "16b322b8-0459-4737-a34d-fb1ef6065a40",
   "metadata": {},
   "source": [
    "\n",
    "**Input:** `s = \"bbbbb\"`<br>\n",
    "**Output:** `1`<br>\n",
    "**Explanation:** The answer is \"b\", with the length of 1.<br>\n",
    "\n",
    "---"
   ]
  },
  {
   "cell_type": "markdown",
   "id": "a2fe00f5-1589-4b87-8654-5bd438e81d45",
   "metadata": {},
   "source": [
    "#### Example 3:\n"
   ]
  },
  {
   "cell_type": "markdown",
   "id": "4b853228-68be-4767-b413-2ede1cc1b7f4",
   "metadata": {},
   "source": [
    "\n",
    "**Input:** `s = \"pwwkew\"`<br>\n",
    "**Output:** `3` <br>\n",
    "**Explanation:** The answer is \"wke\", with the length of 3.<br>\n",
    "Notice that the answer must be a **substring**, \"pwke\" is a subsequence and not a substring.<br>\n",
    "\n",
    "---"
   ]
  },
  {
   "cell_type": "markdown",
   "id": "d076b992-daec-4464-9940-07471aa70be7",
   "metadata": {},
   "source": [
    "#### Constraints:"
   ]
  },
  {
   "cell_type": "markdown",
   "id": "265bda86-6166-4acd-a045-9c613f2c52db",
   "metadata": {},
   "source": [
    "* `0 <= s.length <= 5 * 10^4`\n",
    "* `s` consists of English letters, digits, symbols and spaces\n",
    "\n",
    "---"
   ]
  },
  {
   "cell_type": "markdown",
   "id": "1a83dde4-59f2-406d-af30-3cf5e4ec88d1",
   "metadata": {},
   "source": [
    "## Solution "
   ]
  },
  {
   "cell_type": "code",
   "execution_count": 7,
   "id": "b06d3afe-99d9-4336-934d-5a6ca79a3e98",
   "metadata": {},
   "outputs": [],
   "source": [
    "class Solution:\n",
    "    def lengthOfLongestSubstring(self, s: str) -> int:\n",
    "\n",
    "        \"\"\"Finds the length of the longest substring without repeating characters.\n",
    "\n",
    "        This method uses a sliding window approach with a dictionary to track \n",
    "        the last index of each character. It efficiently updates the window \n",
    "        start when a repeated character is found and keeps track of the \n",
    "        maximum substring length.\n",
    "\n",
    "        Args:\n",
    "            s (str): The input string.\n",
    "\n",
    "        Returns:\n",
    "            int: The length of the longest substring without repeating characters.\n",
    "\n",
    "        Example:\n",
    "            >>> solution = Solution()\n",
    "            >>> solution.lengthOfLongestSubstring(\"abcabcbb\")\n",
    "            3\n",
    "            >>> solution.lengthOfLongestSubstring(\"bbbbb\")\n",
    "            1\n",
    "            >>> solution.lengthOfLongestSubstring(\"pwwkew\")\n",
    "            3\n",
    "\n",
    "        Time Complexity:\n",
    "            O(n), where n is the length of the string, since each character is \n",
    "            visited at most twice.\n",
    "\n",
    "        Space Complexity:\n",
    "            O(min(n, m)), where m is the size of the character set, for storing \n",
    "            characters in the dictionary.\n",
    "        \"\"\" \n",
    "        \n",
    "        dict = {}\n",
    "        lon_substr_len = 0 \n",
    "        start = 0 \n",
    "\n",
    "        for end in range(len(s)): \n",
    "            if s[end] in dict: \n",
    "                start = max(start, dict[s[end]] + 1)\n",
    "            dict[s[end]] = end\n",
    "            lon_substr_len = max(lon_substr_len, end - start + 1)\n",
    "        \n",
    "        return lon_substr_len"
   ]
  },
  {
   "cell_type": "code",
   "execution_count": 8,
   "id": "7bc63a59-76ce-4608-a875-1dc06812160b",
   "metadata": {},
   "outputs": [
    {
     "data": {
      "text/plain": [
       "3"
      ]
     },
     "execution_count": 8,
     "metadata": {},
     "output_type": "execute_result"
    }
   ],
   "source": [
    "solution = Solution()\n",
    "list = \"abcabcabc\"\n",
    "solution.lengthOfLongestSubstring(list)"
   ]
  },
  {
   "cell_type": "markdown",
   "id": "491b076b-fa57-4b6c-8fc1-d5945bcf7d61",
   "metadata": {},
   "source": [
    "## Git Integration"
   ]
  },
  {
   "cell_type": "code",
   "execution_count": 9,
   "id": "6c17d940-dc5d-4a66-aafe-6acf207575d0",
   "metadata": {},
   "outputs": [
    {
     "name": "stdout",
     "output_type": "stream",
     "text": [
      "Reinitialized existing Git repository in C:/File Manager/Code_Sorcerer/LeetCode/.git/\n"
     ]
    }
   ],
   "source": [
    "!git init"
   ]
  },
  {
   "cell_type": "code",
   "execution_count": 10,
   "id": "d7a556e6-aaae-49ea-8e51-56eda7bfdd99",
   "metadata": {},
   "outputs": [
    {
     "name": "stdout",
     "output_type": "stream",
     "text": [
      "On branch main\n",
      "Your branch is up to date with 'origin/main'.\n",
      "\n",
      "Changes not staged for commit:\n",
      "  (use \"git add <file>...\" to update what will be committed)\n",
      "  (use \"git restore <file>...\" to discard changes in working directory)\n",
      "\tmodified:   01_Two_Sum.ipynb\n",
      "\tmodified:   02_Add_Two_Numbers.ipynb\n",
      "\n",
      "Untracked files:\n",
      "  (use \"git add <file>...\" to include in what will be committed)\n",
      "\t.ipynb_checkpoints/\n",
      "\t03_Longest_Substring_Without_Repeating_Characters.ipynb\n",
      "\tUseful_resources/\n",
      "\tenv/\n",
      "\n",
      "no changes added to commit (use \"git add\" and/or \"git commit -a\")\n"
     ]
    }
   ],
   "source": [
    "!git status"
   ]
  },
  {
   "cell_type": "code",
   "execution_count": 13,
   "id": "ee15795b-c501-4b2b-b938-e0e167a2dbcf",
   "metadata": {},
   "outputs": [
    {
     "name": "stderr",
     "output_type": "stream",
     "text": [
      "warning: in the working copy of '03_Longest_Substring_Without_Repeating_Characters.ipynb', LF will be replaced by CRLF the next time Git touches it\n"
     ]
    },
    {
     "name": "stdout",
     "output_type": "stream",
     "text": [
      "[main 54067c9] Upload Third LeetCode solution - Longest Substring Without Repeating Characters\n",
      " 1 file changed, 51 insertions(+), 3 deletions(-)\n"
     ]
    }
   ],
   "source": [
    "!git add 03_Longest_Substring_Without_Repeating_Characters.ipynb\n",
    "!git commit -m \"Upload Third LeetCode solution - Longest Substring Without Repeating Characters\""
   ]
  },
  {
   "cell_type": "code",
   "execution_count": 14,
   "id": "fab923fe-43c6-40e4-bf50-830d3f5d10af",
   "metadata": {},
   "outputs": [
    {
     "name": "stderr",
     "output_type": "stream",
     "text": [
      "error: remote origin already exists.\n",
      "To https://github.com/HasnenSheikh/LeetCode.git\n",
      "   92a4cfb..54067c9  main -> main\n"
     ]
    }
   ],
   "source": [
    "!git remote add origin https://github.com/HasnenSheikh/LeetCode.git\n",
    "!git branch -M main\n",
    "!git push origin main"
   ]
  },
  {
   "cell_type": "code",
   "execution_count": null,
   "id": "abf9a207-2079-4e69-9c8e-fd5098717381",
   "metadata": {},
   "outputs": [],
   "source": []
  }
 ],
 "metadata": {
  "kernelspec": {
   "display_name": "Python 3 (ipykernel)",
   "language": "python",
   "name": "python3"
  },
  "language_info": {
   "codemirror_mode": {
    "name": "ipython",
    "version": 3
   },
   "file_extension": ".py",
   "mimetype": "text/x-python",
   "name": "python",
   "nbconvert_exporter": "python",
   "pygments_lexer": "ipython3",
   "version": "3.11.4"
  }
 },
 "nbformat": 4,
 "nbformat_minor": 5
}
