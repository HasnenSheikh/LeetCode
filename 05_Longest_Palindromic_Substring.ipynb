{
 "cells": [
  {
   "cell_type": "markdown",
   "id": "b7061eb5-bee3-4f38-9443-9ef91751e851",
   "metadata": {},
   "source": [
    "# <center>Longest Panlindromic Substring<center>"
   ]
  },
  {
   "cell_type": "markdown",
   "id": "cfd6b6c0-b097-41ae-bf51-891e74941e0e",
   "metadata": {},
   "source": [
    "## Notebook Configuration"
   ]
  },
  {
   "cell_type": "markdown",
   "id": "1645af4b-9289-483d-a2c3-a0627a148390",
   "metadata": {},
   "source": [
    "#### Creating a Virtual Envionment "
   ]
  },
  {
   "cell_type": "code",
   "execution_count": 1,
   "id": "1bac9d0e-78f6-4dc4-b127-2decc33169b4",
   "metadata": {},
   "outputs": [],
   "source": [
    "!python -m venv env \n",
    "!env\\Scripts\\activate"
   ]
  },
  {
   "cell_type": "markdown",
   "id": "2ece8122-e00a-4e76-95e2-31b304342adf",
   "metadata": {},
   "source": [
    "#### Configuration Notebooks for Version Control"
   ]
  },
  {
   "cell_type": "code",
   "execution_count": 2,
   "id": "eba6d0e7-523b-4a60-a5ba-5712b9fa6e2b",
   "metadata": {},
   "outputs": [],
   "source": [
    "import nbformat as nb \n",
    "\n",
    "notebook = nb.read(\"05_Longest_Panlindromic_Substring.ipynb\", as_version=4)\n",
    "notebook['metadata']['git'] = {'suppress_outputs': True}\n",
    "nb.write(notebook, \"05_Longest_Panlindromic_Substring.ipynb\")"
   ]
  },
  {
   "cell_type": "markdown",
   "id": "e4a8e44a-d9b5-4862-9125-aeb3a6935b42",
   "metadata": {},
   "source": [
    "## Problem Statement "
   ]
  },
  {
   "cell_type": "markdown",
   "id": "0f8f3c02-1b34-4e1b-9ac5-e52e812ebd5c",
   "metadata": {},
   "source": [
    "Given a string `s`, return the longest palindromic substring in `s`.\n",
    "\n",
    "---"
   ]
  },
  {
   "cell_type": "markdown",
   "id": "01e98bee-e061-414f-8243-b848bac19707",
   "metadata": {},
   "source": [
    "### Examples"
   ]
  },
  {
   "cell_type": "markdown",
   "id": "1cba2806-848a-46f2-8197-157749842f0b",
   "metadata": {},
   "source": [
    "#### Example 1:"
   ]
  },
  {
   "cell_type": "markdown",
   "id": "d73f3914-f515-4258-bcf6-48011c4d7c8e",
   "metadata": {},
   "source": [
    "**Input:** s = \"babad\"<br>\n",
    "**Output:** \"bab\"<br>\n",
    "**Explanation:** \"aba\" is also a valid answer.<br>\n",
    "\n",
    "---"
   ]
  },
  {
   "cell_type": "markdown",
   "id": "85b8b3d5-e92d-4203-bd73-4ecd1bdec569",
   "metadata": {},
   "source": [
    "#### Example 2:"
   ]
  },
  {
   "cell_type": "markdown",
   "id": "5c31b777-05fe-46f4-901a-3a74df8b57a4",
   "metadata": {},
   "source": [
    "**Input:** s = \"cbbd\"<br>\n",
    "**Output:** \"bb\"<br>\n",
    "\n",
    "---"
   ]
  },
  {
   "cell_type": "markdown",
   "id": "92164d29-5171-481f-ab57-40fe54755aee",
   "metadata": {},
   "source": [
    "### Constraints:"
   ]
  },
  {
   "cell_type": "markdown",
   "id": "7fea3cba-fca9-4482-9378-238d69ce04c9",
   "metadata": {},
   "source": [
    "* 1 <= s.length <= 1000 <br>\n",
    "* `s` consist of only digits and English letters.<br>\n",
    "\n",
    "--- "
   ]
  },
  {
   "cell_type": "markdown",
   "id": "78b32515-a17b-4969-9cf6-a4e12d61a117",
   "metadata": {},
   "source": [
    "## Solution"
   ]
  },
  {
   "cell_type": "code",
   "execution_count": 10,
   "id": "5d6d79e5-3abf-4059-abad-1143810c7445",
   "metadata": {},
   "outputs": [],
   "source": [
    "class Solution:\n",
    "    def longestPalindrome(self, s: str) -> str:\n",
    "\n",
    "        \"\"\"Finds the longest palindromic substring in the given string.\n",
    "\n",
    "        This method expands around each character (for odd-length palindromes) \n",
    "        and each pair of adjacent characters (for even-length palindromes) to \n",
    "        find the longest substring that is a palindrome. It returns the \n",
    "        longest palindrome found.\n",
    "\n",
    "        Args:\n",
    "            s (str): The input string.\n",
    "\n",
    "        Returns:\n",
    "            str: The longest palindromic substring.\n",
    "\n",
    "        Example:\n",
    "            >>> solution = Solution()\n",
    "            >>> solution.longestPalindrome(\"babad\")\n",
    "            'bab'   # or 'aba', both are valid answers\n",
    "            >>> solution.longestPalindrome(\"cbbd\")\n",
    "            'bb'\n",
    "\n",
    "        Time Complexity:\n",
    "            O(n^2), where n is the length of the string, since expanding around \n",
    "            each center takes O(n) and there are O(n) centers.\n",
    "\n",
    "        Space Complexity:\n",
    "            O(1), since only a few extra variables are used.\n",
    "        \"\"\" \n",
    "        \n",
    "        result = \"\"\n",
    "        result_len = 0 \n",
    "\n",
    "        for i in range(len(s)): \n",
    "            #odd length Palindrome \n",
    "            left, right = i, i \n",
    "            str_len = len(s)\n",
    "            while left >= 0 and right < str_len and s[left] == s[right]: \n",
    "                if(right - left + 1) > result_len: \n",
    "                    result = s[left:right+1]\n",
    "                    result_len = right - left + 1\n",
    "                left -= 1\n",
    "                right += 1\n",
    "\n",
    "            #Even Length Palindrome\n",
    "            left, right = i, i+1\n",
    "\n",
    "            while left >= 0 and right < str_len and s[left] == s[right]: \n",
    "                if (right - left + 1) > result_len: \n",
    "                    result = s[left : right + 1]\n",
    "                    result_len = right - left + 1\n",
    "\n",
    "                left -= 1\n",
    "                right += 1\n",
    "\n",
    "        return result"
   ]
  },
  {
   "cell_type": "code",
   "execution_count": 11,
   "id": "6837bfc1-0bf7-4eeb-bb82-a5693370158b",
   "metadata": {},
   "outputs": [
    {
     "data": {
      "text/plain": [
       "'bab'"
      ]
     },
     "execution_count": 11,
     "metadata": {},
     "output_type": "execute_result"
    }
   ],
   "source": [
    "s = \"babad\"\n",
    "solution = Solution()\n",
    "solution.longestPalindrome(s)"
   ]
  },
  {
   "cell_type": "markdown",
   "id": "00de3814-945e-426f-82bc-7c2860d9b08c",
   "metadata": {},
   "source": [
    "## Git Integration "
   ]
  },
  {
   "cell_type": "code",
   "execution_count": 12,
   "id": "60648da2-6101-4341-af09-81b4b8f55446",
   "metadata": {},
   "outputs": [
    {
     "name": "stdout",
     "output_type": "stream",
     "text": [
      "Reinitialized existing Git repository in C:/File Manager/Code_Sorcerer/LeetCode/.git/\n"
     ]
    }
   ],
   "source": [
    "!git init"
   ]
  },
  {
   "cell_type": "code",
   "execution_count": 13,
   "id": "d4aef57a-1c93-444b-8897-52a206717017",
   "metadata": {},
   "outputs": [
    {
     "name": "stdout",
     "output_type": "stream",
     "text": [
      "On branch main\n",
      "Your branch is up to date with 'origin/main'.\n",
      "\n",
      "Changes not staged for commit:\n",
      "  (use \"git add <file>...\" to update what will be committed)\n",
      "  (use \"git restore <file>...\" to discard changes in working directory)\n",
      "\tmodified:   01_Two_Sum.ipynb\n",
      "\tmodified:   02_Add_Two_Numbers.ipynb\n",
      "\tmodified:   03_Longest_Substring_Without_Repeating_Characters.ipynb\n",
      "\tmodified:   04_Median_of_Two_Sorted_Arrays.ipynb\n",
      "\n",
      "Untracked files:\n",
      "  (use \"git add <file>...\" to include in what will be committed)\n",
      "\t.ipynb_checkpoints/\n",
      "\t05_Longest_Panlindromic_Substring.ipynb\n",
      "\tUseful_resources/\n",
      "\tenv/\n",
      "\n",
      "no changes added to commit (use \"git add\" and/or \"git commit -a\")\n"
     ]
    }
   ],
   "source": [
    "!git status"
   ]
  },
  {
   "cell_type": "code",
   "execution_count": null,
   "id": "0d6f63a2-fa90-4a35-b2b8-3f8829cab3ac",
   "metadata": {},
   "outputs": [],
   "source": [
    "!git add 05_Longest_Panlindromic_Substring.ipynb\n",
    "!git commit -m \"Solve LeetCode #5 - Longest Palindromic Substring\""
   ]
  }
 ],
 "metadata": {
  "git": {
   "suppress_outputs": true
  },
  "kernelspec": {
   "display_name": "Python 3 (ipykernel)",
   "language": "python",
   "name": "python3"
  },
  "language_info": {
   "codemirror_mode": {
    "name": "ipython",
    "version": 3
   },
   "file_extension": ".py",
   "mimetype": "text/x-python",
   "name": "python",
   "nbconvert_exporter": "python",
   "pygments_lexer": "ipython3",
   "version": "3.11.4"
  }
 },
 "nbformat": 4,
 "nbformat_minor": 5
}
