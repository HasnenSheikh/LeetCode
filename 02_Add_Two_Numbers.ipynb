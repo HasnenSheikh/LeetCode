{
 "cells": [
  {
   "cell_type": "markdown",
   "id": "55e86297-8034-43ea-bc3c-9b4627f97a4e",
   "metadata": {},
   "source": [
    "# <center>Add Two Numbers<center> "
   ]
  },
  {
   "cell_type": "markdown",
   "id": "be4026ab-238c-44ac-a363-2c4753a09c73",
   "metadata": {},
   "source": [
    "## Notebook Configuration"
   ]
  },
  {
   "cell_type": "markdown",
   "id": "bceb95c0-c187-4de8-94b8-1dcd07bb0e44",
   "metadata": {},
   "source": [
    "#### Creating a Virtual Environment "
   ]
  },
  {
   "cell_type": "code",
   "execution_count": 1,
   "id": "6c19f92a-3aa7-4c50-90a2-d5b426ba739e",
   "metadata": {},
   "outputs": [],
   "source": [
    "!python -m venv env \n",
    "!env\\Scripts\\activate "
   ]
  },
  {
   "cell_type": "markdown",
   "id": "8b8cadcf-fd70-472d-8708-1ebde4db878a",
   "metadata": {},
   "source": [
    "#### Configuring Notebooks for Version Control "
   ]
  },
  {
   "cell_type": "code",
   "execution_count": 2,
   "id": "95010346-f9ab-4ce9-8876-8cfd6d99a415",
   "metadata": {},
   "outputs": [],
   "source": [
    "import nbformat\n",
    "\n",
    "notebook = nbformat.read(\"02_Add_Two_Numbers.ipynb\", as_version=4)\n",
    "notebook['metadata']['git'] = {'suppress_outputs': True}\n",
    "nbformat.write(notebook, \"02_Add_Two_Numbers.ipynb\")"
   ]
  },
  {
   "cell_type": "markdown",
   "id": "917c4d1c-8212-4d11-9cc4-49c678cd5830",
   "metadata": {},
   "source": [
    "## Problem Statement"
   ]
  },
  {
   "cell_type": "markdown",
   "id": "380b276d-0c93-437c-8f47-045631fed417",
   "metadata": {},
   "source": [
    "You are given two non-empty linked lists representing two non-negative integers. The digits are stored in reverse order, and each of their nodes contains a single digit. Add the two numbers and return the sum as a linked list.\n",
    "<br><br> \n",
    "You may assume the two numbers do not contain any leading zero, except the number 0 itself."
   ]
  },
  {
   "cell_type": "markdown",
   "id": "b5dfdb91-6447-43bc-ab35-9f2a1d5a5fb6",
   "metadata": {},
   "source": [
    "#### Examples"
   ]
  },
  {
   "cell_type": "markdown",
   "id": "a48d80ea-9325-4179-8df2-a27f5791afcb",
   "metadata": {},
   "source": [
    "##### Example 1:\n",
    "![\"Example Graph\"](Useful_resources/Images/02_Example_Graph.png)"
   ]
  },
  {
   "cell_type": "markdown",
   "id": "4b34b026-c448-492f-8798-a80feec68e39",
   "metadata": {},
   "source": [
    "**Input:** `l1 = [2,4,3]`, `l2 = [5,6,4]` <br>\n",
    "**Output:** `[7,0,8]` <br> \n",
    "**Explanation:** `342 + 465 = 807`. <br> "
   ]
  },
  {
   "cell_type": "markdown",
   "id": "4e7090df-90f4-458b-aa3c-f7365927d9a5",
   "metadata": {},
   "source": [
    "##### Example 2:"
   ]
  },
  {
   "cell_type": "markdown",
   "id": "21a650a8-2545-446d-b701-dae0706b3892",
   "metadata": {},
   "source": [
    "**Input:** `l1 = [0]`, `l2 = [0]` <br>\n",
    "**Output:** `[0]` <br> "
   ]
  },
  {
   "cell_type": "markdown",
   "id": "e8bc6af9-11eb-4635-9cf0-490abf220a04",
   "metadata": {},
   "source": [
    "##### Example 3:"
   ]
  },
  {
   "cell_type": "markdown",
   "id": "4cdb0d72-b697-4ba1-91fb-e5699e030bec",
   "metadata": {},
   "source": [
    "**Input:** `l1 = [9,9,9,9,9,9,9]`, `l2 = [9,9,9,9]` <br>\n",
    "**Output:** `[8,9,9,9,0,0,0,1]` <br> "
   ]
  },
  {
   "cell_type": "markdown",
   "id": "276b445c-dd5b-498b-9c34-f56aa6166f6f",
   "metadata": {},
   "source": [
    "#### Constraints:"
   ]
  },
  {
   "cell_type": "markdown",
   "id": "168133c8-6bb0-48ed-af27-5e789d9b92b0",
   "metadata": {},
   "source": [
    "* The number of nodes in each linked list is in the range [1, 100]. <br>\n",
    "* 0 <= Node.val <= 9 <br> \n",
    "* It is guaranteed that the list represents a number that does not have leading zeros. <br> "
   ]
  },
  {
   "cell_type": "markdown",
   "id": "bf985243-0681-42c0-9230-0289209e43b2",
   "metadata": {},
   "source": [
    "## Solution"
   ]
  },
  {
   "cell_type": "code",
   "execution_count": 3,
   "id": "3f022ec9-4e60-4fd2-9332-1806c815c7a6",
   "metadata": {},
   "outputs": [],
   "source": [
    "from typing import Optional"
   ]
  },
  {
   "cell_type": "code",
   "execution_count": 4,
   "id": "f11b9308-879a-4764-a3a3-3ce22e3180ad",
   "metadata": {},
   "outputs": [],
   "source": [
    "# Definition for singly-linked list\n",
    "class ListNode:\n",
    "\n",
    "    \"\"\"Definition for a singly-linked list node.\n",
    "\n",
    "    This class represents a node in a singly-linked list,\n",
    "    containing a value (`val`) and a reference to the next node (`next`).\n",
    "\n",
    "    Attributes:\n",
    "        val (int): The value stored in the node. Defaults to 0.\n",
    "        next (ListNode | None): The reference to the next node in the list.\n",
    "            Defaults to None.\n",
    "    \"\"\"\n",
    "    \n",
    "    def __init__(self, val=0, next=None):\n",
    "\n",
    "        \"\"\"Initializes a new ListNode instance.\n",
    "\n",
    "        Args:\n",
    "            val (int, optional): The value to store in the node. Defaults to 0.\n",
    "            next (ListNode | None, optional): The next node in the linked list.\n",
    "                Defaults to None.\n",
    "        \"\"\"  \n",
    "        \n",
    "        self.val = val\n",
    "        self.next = next\n"
   ]
  },
  {
   "cell_type": "code",
   "execution_count": 5,
   "id": "d910b7e8-0343-4692-931b-3f95376cb678",
   "metadata": {},
   "outputs": [],
   "source": [
    "class Solution:\n",
    "    \n",
    "    def addTwoNumbers(self, l1: Optional[ListNode], l2: Optional[ListNode]) -> Optional[ListNode]:\n",
    "\n",
    "        \"\"\"Adds two numbers represented as linked lists.\n",
    "\n",
    "    Each input linked list stores a non-negative integer in reverse order, \n",
    "    where each node contains a single digit. The function adds the two \n",
    "    numbers and returns the sum as a new linked list, also in reverse order.\n",
    "\n",
    "    Args:\n",
    "        l1 (Optional[ListNode]): The head of the first linked list.\n",
    "        l2 (Optional[ListNode]): The head of the second linked list.\n",
    "\n",
    "    Returns:\n",
    "        Optional[ListNode]: The head of the resulting linked list that \n",
    "            represents the sum of the two numbers.\n",
    "\n",
    "    Example:\n",
    "        >>> # Number 342 represented as (2 -> 4 -> 3)\n",
    "        >>> l1 = ListNode(2, ListNode(4, ListNode(3)))\n",
    "        >>> # Number 465 represented as (5 -> 6 -> 4)\n",
    "        >>> l2 = ListNode(5, ListNode(6, ListNode(4)))\n",
    "        >>> solution = Solution()\n",
    "        >>> result = solution.addTwoNumbers(l1, l2)\n",
    "        >>> # Result represents 807 as (7 -> 0 -> 8)\n",
    "        >>> while result:\n",
    "        ...     print(result.val, end=\" -> \" if result.next else \"\")\n",
    "        7 -> 0 -> 8\n",
    "    \"\"\" \n",
    "        \n",
    "        Sum_list = ListNode(0)\n",
    "        current_element = Sum_list\n",
    "        carry = 0 \n",
    "\n",
    "        while l1 or l2 or carry:\n",
    "            element1 = l1.val if l1 else 0 \n",
    "            element2 = l2.val if l2 else 0\n",
    "\n",
    "            carry, sum_elem = divmod(element1 + element2 + carry, 10)\n",
    "\n",
    "            current_element.next = ListNode(sum_elem)\n",
    "            current_element = current_element.next\n",
    "\n",
    "            l1 = l1.next if l1 else None\n",
    "            l2 = l2.next if l2 else None\n",
    "\n",
    "        return Sum_list.next\n",
    "        "
   ]
  },
  {
   "cell_type": "code",
   "execution_count": 11,
   "id": "95869e6d-85f9-4fa3-a57d-49eb0a584a17",
   "metadata": {},
   "outputs": [
    {
     "name": "stdout",
     "output_type": "stream",
     "text": [
      "7->0->8"
     ]
    }
   ],
   "source": [
    "l1 = ListNode(2, ListNode(4, ListNode(3))) \n",
    "l2 = ListNode(5, ListNode(6, ListNode(4))) \n",
    "solution = Solution()\n",
    "result = solution.addTwoNumbers(l1, l2)  \n",
    "\n",
    "while result:\n",
    "    print(result.val, end=\"->\" if result.next else \"\")\n",
    "    result = result.next"
   ]
  },
  {
   "cell_type": "markdown",
   "id": "1fe5a1c5-cf9c-4f8a-9d3e-1462197d376e",
   "metadata": {},
   "source": [
    "#### Git Integration "
   ]
  },
  {
   "cell_type": "code",
   "execution_count": 12,
   "id": "292193f8-cd9f-48ed-b71e-dcc12aa9a341",
   "metadata": {},
   "outputs": [
    {
     "name": "stdout",
     "output_type": "stream",
     "text": [
      "Reinitialized existing Git repository in C:/File Manager/Code_Sorcerer/LeetCode/.git/\n"
     ]
    }
   ],
   "source": [
    "!git init"
   ]
  },
  {
   "cell_type": "code",
   "execution_count": 13,
   "id": "1120f17a-8415-4935-9905-844ccb89aefb",
   "metadata": {},
   "outputs": [
    {
     "name": "stdout",
     "output_type": "stream",
     "text": [
      "On branch main\n",
      "Your branch is up to date with 'origin/main'.\n",
      "\n",
      "Changes not staged for commit:\n",
      "  (use \"git add <file>...\" to update what will be committed)\n",
      "  (use \"git restore <file>...\" to discard changes in working directory)\n",
      "\tmodified:   01_Two_Sum.ipynb\n",
      "\n",
      "Untracked files:\n",
      "  (use \"git add <file>...\" to include in what will be committed)\n",
      "\t.ipynb_checkpoints/\n",
      "\t02_Add_Two_Numbers.ipynb\n",
      "\tUseful_resources/\n",
      "\tenv/\n",
      "\n",
      "no changes added to commit (use \"git add\" and/or \"git commit -a\")\n"
     ]
    }
   ],
   "source": [
    "!git status"
   ]
  },
  {
   "cell_type": "code",
   "execution_count": 14,
   "id": "1a78efe2-33a2-46fa-90cb-e5975b552d92",
   "metadata": {},
   "outputs": [
    {
     "name": "stderr",
     "output_type": "stream",
     "text": [
      "warning: in the working copy of '02_Add_Two_Numbers.ipynb', LF will be replaced by CRLF the next time Git touches it\n"
     ]
    },
    {
     "name": "stdout",
     "output_type": "stream",
     "text": [
      "[main ae4ac1a] Upload Second LeetCode solution - Add Two Numbers\n",
      " 1 file changed, 384 insertions(+)\n",
      " create mode 100644 02_Add_Two_Numbers.ipynb\n"
     ]
    }
   ],
   "source": [
    "!git add 02_Add_Two_Numbers.ipynb\n",
    "!git commit -m \"Upload Second LeetCode solution - Add Two Numbers\""
   ]
  },
  {
   "cell_type": "code",
   "execution_count": 16,
   "id": "ac068594-a291-4750-a95c-d994c3068163",
   "metadata": {},
   "outputs": [
    {
     "name": "stderr",
     "output_type": "stream",
     "text": [
      "error: remote origin already exists.\n",
      "To https://github.com/HasnenSheikh/LeetCode.git\n",
      "   82579a6..ae4ac1a  main -> main\n"
     ]
    }
   ],
   "source": [
    "!git remote add origin https://github.com/HasnenSheikh/LeetCode.git \n",
    "!git branch -M main\n",
    "!git push origin main"
   ]
  },
  {
   "cell_type": "code",
   "execution_count": null,
   "id": "6e9904d0-2ee7-4db1-a9f9-e666e4c0ac40",
   "metadata": {},
   "outputs": [],
   "source": []
  }
 ],
 "metadata": {
  "git": {
   "suppress_outputs": true
  },
  "kernelspec": {
   "display_name": "Python 3 (ipykernel)",
   "language": "python",
   "name": "python3"
  },
  "language_info": {
   "codemirror_mode": {
    "name": "ipython",
    "version": 3
   },
   "file_extension": ".py",
   "mimetype": "text/x-python",
   "name": "python",
   "nbconvert_exporter": "python",
   "pygments_lexer": "ipython3",
   "version": "3.11.4"
  }
 },
 "nbformat": 4,
 "nbformat_minor": 5
}
